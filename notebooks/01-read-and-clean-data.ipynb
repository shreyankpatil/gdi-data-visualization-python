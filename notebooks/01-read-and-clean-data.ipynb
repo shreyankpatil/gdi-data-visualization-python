{
 "cells": [
  {
   "cell_type": "code",
   "execution_count": 1,
   "metadata": {},
   "outputs": [],
   "source": [
    "import pandas as pd\n",
    "import pickle"
   ]
  },
  {
   "cell_type": "code",
   "execution_count": 2,
   "metadata": {},
   "outputs": [
    {
     "data": {
      "text/html": [
       "<div>\n",
       "<style scoped>\n",
       "    .dataframe tbody tr th:only-of-type {\n",
       "        vertical-align: middle;\n",
       "    }\n",
       "\n",
       "    .dataframe tbody tr th {\n",
       "        vertical-align: top;\n",
       "    }\n",
       "\n",
       "    .dataframe thead th {\n",
       "        text-align: right;\n",
       "    }\n",
       "</style>\n",
       "<table border=\"1\" class=\"dataframe\">\n",
       "  <thead>\n",
       "    <tr style=\"text-align: right;\">\n",
       "      <th></th>\n",
       "      <th>Name</th>\n",
       "      <th>Author</th>\n",
       "      <th>User Rating</th>\n",
       "      <th>Reviews</th>\n",
       "      <th>Price</th>\n",
       "      <th>Year</th>\n",
       "      <th>Genre</th>\n",
       "    </tr>\n",
       "  </thead>\n",
       "  <tbody>\n",
       "    <tr>\n",
       "      <th>0</th>\n",
       "      <td>10-Day Green Smoothie Cleanse</td>\n",
       "      <td>JJ Smith</td>\n",
       "      <td>4.7</td>\n",
       "      <td>17350</td>\n",
       "      <td>8</td>\n",
       "      <td>2016</td>\n",
       "      <td>Non Fiction</td>\n",
       "    </tr>\n",
       "    <tr>\n",
       "      <th>1</th>\n",
       "      <td>11/22/63: A Novel</td>\n",
       "      <td>Stephen King</td>\n",
       "      <td>4.6</td>\n",
       "      <td>2052</td>\n",
       "      <td>22</td>\n",
       "      <td>2011</td>\n",
       "      <td>Fiction</td>\n",
       "    </tr>\n",
       "    <tr>\n",
       "      <th>2</th>\n",
       "      <td>12 Rules for Life: An Antidote to Chaos</td>\n",
       "      <td>Jordan B. Peterson</td>\n",
       "      <td>4.7</td>\n",
       "      <td>18979</td>\n",
       "      <td>15</td>\n",
       "      <td>2018</td>\n",
       "      <td>Non Fiction</td>\n",
       "    </tr>\n",
       "    <tr>\n",
       "      <th>3</th>\n",
       "      <td>1984 (Signet Classics)</td>\n",
       "      <td>George Orwell</td>\n",
       "      <td>4.7</td>\n",
       "      <td>21424</td>\n",
       "      <td>6</td>\n",
       "      <td>2017</td>\n",
       "      <td>Fiction</td>\n",
       "    </tr>\n",
       "    <tr>\n",
       "      <th>4</th>\n",
       "      <td>5,000 Awesome Facts (About Everything!) (Natio...</td>\n",
       "      <td>National Geographic Kids</td>\n",
       "      <td>4.8</td>\n",
       "      <td>7665</td>\n",
       "      <td>12</td>\n",
       "      <td>2019</td>\n",
       "      <td>Non Fiction</td>\n",
       "    </tr>\n",
       "  </tbody>\n",
       "</table>\n",
       "</div>"
      ],
      "text/plain": [
       "                                                Name  \\\n",
       "0                      10-Day Green Smoothie Cleanse   \n",
       "1                                  11/22/63: A Novel   \n",
       "2            12 Rules for Life: An Antidote to Chaos   \n",
       "3                             1984 (Signet Classics)   \n",
       "4  5,000 Awesome Facts (About Everything!) (Natio...   \n",
       "\n",
       "                     Author  User Rating  Reviews  Price  Year        Genre  \n",
       "0                  JJ Smith          4.7    17350      8  2016  Non Fiction  \n",
       "1              Stephen King          4.6     2052     22  2011      Fiction  \n",
       "2        Jordan B. Peterson          4.7    18979     15  2018  Non Fiction  \n",
       "3             George Orwell          4.7    21424      6  2017      Fiction  \n",
       "4  National Geographic Kids          4.8     7665     12  2019  Non Fiction  "
      ]
     },
     "execution_count": 2,
     "metadata": {},
     "output_type": "execute_result"
    }
   ],
   "source": [
    "df_raw = pd.read_csv('../data/raw/bestsellers_with_categories.csv')\n",
    "df_raw.head()"
   ]
  },
  {
   "cell_type": "code",
   "execution_count": 3,
   "metadata": {},
   "outputs": [
    {
     "data": {
      "text/html": [
       "<div>\n",
       "<style scoped>\n",
       "    .dataframe tbody tr th:only-of-type {\n",
       "        vertical-align: middle;\n",
       "    }\n",
       "\n",
       "    .dataframe tbody tr th {\n",
       "        vertical-align: top;\n",
       "    }\n",
       "\n",
       "    .dataframe thead th {\n",
       "        text-align: right;\n",
       "    }\n",
       "</style>\n",
       "<table border=\"1\" class=\"dataframe\">\n",
       "  <thead>\n",
       "    <tr style=\"text-align: right;\">\n",
       "      <th></th>\n",
       "      <th>Name</th>\n",
       "      <th>Author</th>\n",
       "      <th>User Rating</th>\n",
       "      <th>Reviews</th>\n",
       "      <th>Price</th>\n",
       "      <th>Year</th>\n",
       "      <th>Genre</th>\n",
       "    </tr>\n",
       "  </thead>\n",
       "  <tbody>\n",
       "    <tr>\n",
       "      <th>545</th>\n",
       "      <td>Wrecking Ball (Diary of a Wimpy Kid Book 14)</td>\n",
       "      <td>Jeff Kinney</td>\n",
       "      <td>4.9</td>\n",
       "      <td>9413</td>\n",
       "      <td>8</td>\n",
       "      <td>2019</td>\n",
       "      <td>Fiction</td>\n",
       "    </tr>\n",
       "    <tr>\n",
       "      <th>546</th>\n",
       "      <td>You Are a Badass: How to Stop Doubting Your Gr...</td>\n",
       "      <td>Jen Sincero</td>\n",
       "      <td>4.7</td>\n",
       "      <td>14331</td>\n",
       "      <td>8</td>\n",
       "      <td>2016</td>\n",
       "      <td>Non Fiction</td>\n",
       "    </tr>\n",
       "    <tr>\n",
       "      <th>547</th>\n",
       "      <td>You Are a Badass: How to Stop Doubting Your Gr...</td>\n",
       "      <td>Jen Sincero</td>\n",
       "      <td>4.7</td>\n",
       "      <td>14331</td>\n",
       "      <td>8</td>\n",
       "      <td>2017</td>\n",
       "      <td>Non Fiction</td>\n",
       "    </tr>\n",
       "    <tr>\n",
       "      <th>548</th>\n",
       "      <td>You Are a Badass: How to Stop Doubting Your Gr...</td>\n",
       "      <td>Jen Sincero</td>\n",
       "      <td>4.7</td>\n",
       "      <td>14331</td>\n",
       "      <td>8</td>\n",
       "      <td>2018</td>\n",
       "      <td>Non Fiction</td>\n",
       "    </tr>\n",
       "    <tr>\n",
       "      <th>549</th>\n",
       "      <td>You Are a Badass: How to Stop Doubting Your Gr...</td>\n",
       "      <td>Jen Sincero</td>\n",
       "      <td>4.7</td>\n",
       "      <td>14331</td>\n",
       "      <td>8</td>\n",
       "      <td>2019</td>\n",
       "      <td>Non Fiction</td>\n",
       "    </tr>\n",
       "  </tbody>\n",
       "</table>\n",
       "</div>"
      ],
      "text/plain": [
       "                                                  Name       Author  \\\n",
       "545       Wrecking Ball (Diary of a Wimpy Kid Book 14)  Jeff Kinney   \n",
       "546  You Are a Badass: How to Stop Doubting Your Gr...  Jen Sincero   \n",
       "547  You Are a Badass: How to Stop Doubting Your Gr...  Jen Sincero   \n",
       "548  You Are a Badass: How to Stop Doubting Your Gr...  Jen Sincero   \n",
       "549  You Are a Badass: How to Stop Doubting Your Gr...  Jen Sincero   \n",
       "\n",
       "     User Rating  Reviews  Price  Year        Genre  \n",
       "545          4.9     9413      8  2019      Fiction  \n",
       "546          4.7    14331      8  2016  Non Fiction  \n",
       "547          4.7    14331      8  2017  Non Fiction  \n",
       "548          4.7    14331      8  2018  Non Fiction  \n",
       "549          4.7    14331      8  2019  Non Fiction  "
      ]
     },
     "execution_count": 3,
     "metadata": {},
     "output_type": "execute_result"
    }
   ],
   "source": [
    "df_raw.tail()"
   ]
  },
  {
   "cell_type": "markdown",
   "metadata": {},
   "source": [
    "Our data has been read in correctly. However, we can already see some duplicates here that we will need to fix later on. "
   ]
  },
  {
   "cell_type": "code",
   "execution_count": 4,
   "metadata": {},
   "outputs": [
    {
     "data": {
      "text/plain": [
       "(550, 7)"
      ]
     },
     "execution_count": 4,
     "metadata": {},
     "output_type": "execute_result"
    }
   ],
   "source": [
    "df_raw.shape"
   ]
  },
  {
   "cell_type": "code",
   "execution_count": 5,
   "metadata": {},
   "outputs": [
    {
     "data": {
      "text/html": [
       "<div>\n",
       "<style scoped>\n",
       "    .dataframe tbody tr th:only-of-type {\n",
       "        vertical-align: middle;\n",
       "    }\n",
       "\n",
       "    .dataframe tbody tr th {\n",
       "        vertical-align: top;\n",
       "    }\n",
       "\n",
       "    .dataframe thead th {\n",
       "        text-align: right;\n",
       "    }\n",
       "</style>\n",
       "<table border=\"1\" class=\"dataframe\">\n",
       "  <thead>\n",
       "    <tr style=\"text-align: right;\">\n",
       "      <th></th>\n",
       "      <th>User Rating</th>\n",
       "      <th>Reviews</th>\n",
       "      <th>Price</th>\n",
       "      <th>Year</th>\n",
       "    </tr>\n",
       "  </thead>\n",
       "  <tbody>\n",
       "    <tr>\n",
       "      <th>count</th>\n",
       "      <td>550.000000</td>\n",
       "      <td>550.000000</td>\n",
       "      <td>550.000000</td>\n",
       "      <td>550.000000</td>\n",
       "    </tr>\n",
       "    <tr>\n",
       "      <th>mean</th>\n",
       "      <td>4.618364</td>\n",
       "      <td>11953.281818</td>\n",
       "      <td>13.100000</td>\n",
       "      <td>2014.000000</td>\n",
       "    </tr>\n",
       "    <tr>\n",
       "      <th>std</th>\n",
       "      <td>0.226980</td>\n",
       "      <td>11731.132017</td>\n",
       "      <td>10.842262</td>\n",
       "      <td>3.165156</td>\n",
       "    </tr>\n",
       "    <tr>\n",
       "      <th>min</th>\n",
       "      <td>3.300000</td>\n",
       "      <td>37.000000</td>\n",
       "      <td>0.000000</td>\n",
       "      <td>2009.000000</td>\n",
       "    </tr>\n",
       "    <tr>\n",
       "      <th>25%</th>\n",
       "      <td>4.500000</td>\n",
       "      <td>4058.000000</td>\n",
       "      <td>7.000000</td>\n",
       "      <td>2011.000000</td>\n",
       "    </tr>\n",
       "    <tr>\n",
       "      <th>50%</th>\n",
       "      <td>4.700000</td>\n",
       "      <td>8580.000000</td>\n",
       "      <td>11.000000</td>\n",
       "      <td>2014.000000</td>\n",
       "    </tr>\n",
       "    <tr>\n",
       "      <th>75%</th>\n",
       "      <td>4.800000</td>\n",
       "      <td>17253.250000</td>\n",
       "      <td>16.000000</td>\n",
       "      <td>2017.000000</td>\n",
       "    </tr>\n",
       "    <tr>\n",
       "      <th>max</th>\n",
       "      <td>4.900000</td>\n",
       "      <td>87841.000000</td>\n",
       "      <td>105.000000</td>\n",
       "      <td>2019.000000</td>\n",
       "    </tr>\n",
       "  </tbody>\n",
       "</table>\n",
       "</div>"
      ],
      "text/plain": [
       "       User Rating       Reviews       Price         Year\n",
       "count   550.000000    550.000000  550.000000   550.000000\n",
       "mean      4.618364  11953.281818   13.100000  2014.000000\n",
       "std       0.226980  11731.132017   10.842262     3.165156\n",
       "min       3.300000     37.000000    0.000000  2009.000000\n",
       "25%       4.500000   4058.000000    7.000000  2011.000000\n",
       "50%       4.700000   8580.000000   11.000000  2014.000000\n",
       "75%       4.800000  17253.250000   16.000000  2017.000000\n",
       "max       4.900000  87841.000000  105.000000  2019.000000"
      ]
     },
     "execution_count": 5,
     "metadata": {},
     "output_type": "execute_result"
    }
   ],
   "source": [
    "df_raw.describe()"
   ]
  },
  {
   "cell_type": "code",
   "execution_count": 6,
   "metadata": {},
   "outputs": [
    {
     "data": {
      "text/plain": [
       "Name            object\n",
       "Author          object\n",
       "User Rating    float64\n",
       "Reviews          int64\n",
       "Price            int64\n",
       "Year             int64\n",
       "Genre           object\n",
       "dtype: object"
      ]
     },
     "execution_count": 6,
     "metadata": {},
     "output_type": "execute_result"
    }
   ],
   "source": [
    "df_raw.dtypes"
   ]
  },
  {
   "cell_type": "code",
   "execution_count": 7,
   "metadata": {},
   "outputs": [],
   "source": [
    "df_books = df_raw.rename(columns={'User Rating': 'user_rating'})\n",
    "df_books.columns = df_books.columns.str.lower()"
   ]
  },
  {
   "cell_type": "code",
   "execution_count": 8,
   "metadata": {},
   "outputs": [
    {
     "data": {
      "text/plain": [
       "name             object\n",
       "author           object\n",
       "user_rating     float64\n",
       "reviews           int64\n",
       "price             int64\n",
       "year              int64\n",
       "genre          category\n",
       "dtype: object"
      ]
     },
     "execution_count": 8,
     "metadata": {},
     "output_type": "execute_result"
    }
   ],
   "source": [
    "df_books['genre'] = df_books['genre'].astype('category')\n",
    "df_books.dtypes"
   ]
  },
  {
   "cell_type": "code",
   "execution_count": 9,
   "metadata": {},
   "outputs": [
    {
     "data": {
      "text/plain": [
       "name           0\n",
       "author         0\n",
       "user_rating    0\n",
       "reviews        0\n",
       "price          0\n",
       "year           0\n",
       "genre          0\n",
       "dtype: int64"
      ]
     },
     "execution_count": 9,
     "metadata": {},
     "output_type": "execute_result"
    }
   ],
   "source": [
    "# missing values \n",
    "df_books.isnull().sum()"
   ]
  },
  {
   "cell_type": "markdown",
   "metadata": {},
   "source": [
    "No action required on missing values, everything is filled in.\n"
   ]
  },
  {
   "cell_type": "markdown",
   "metadata": {},
   "source": [
    "## Cleaning text columns"
   ]
  },
  {
   "cell_type": "code",
   "execution_count": 10,
   "metadata": {},
   "outputs": [
    {
     "name": "stdout",
     "output_type": "stream",
     "text": [
      "name before: 351, name after: 350\n",
      "author before: 248, author after: 248\n",
      "genre before: 2, genre after: 2\n"
     ]
    }
   ],
   "source": [
    "text_columns = ['name', 'author', 'genre']\n",
    "\n",
    "for col in df_books.columns: \n",
    "    if col in text_columns: \n",
    "        n_unique_before = len(df_books[col].unique())\n",
    "        n_unique_after = len(df_books[col].str.title().str.strip().unique())\n",
    "        print(f'{col} before: {n_unique_before}, {col} after: {n_unique_after}')"
   ]
  },
  {
   "cell_type": "markdown",
   "metadata": {},
   "source": [
    "We need to clean the `name` column as we have an inconsistency"
   ]
  },
  {
   "cell_type": "code",
   "execution_count": 11,
   "metadata": {},
   "outputs": [],
   "source": [
    "df_books['name'] = df_books['name'].str.title().str.strip()"
   ]
  },
  {
   "cell_type": "code",
   "execution_count": 12,
   "metadata": {},
   "outputs": [
    {
     "name": "stdout",
     "output_type": "stream",
     "text": [
      "name before: 350, name after: 350\n",
      "author before: 248, author after: 248\n",
      "genre before: 2, genre after: 2\n"
     ]
    }
   ],
   "source": [
    "for col in df_books.columns: \n",
    "    if col in text_columns: \n",
    "        n_unique_before = len(df_books[col].unique())\n",
    "        n_unique_after = len(df_books[col].str.title().str.strip().unique())\n",
    "        print(f'{col} before: {n_unique_before}, {col} after: {n_unique_after}')"
   ]
  },
  {
   "cell_type": "markdown",
   "metadata": {},
   "source": [
    "Looking at the `author` column now."
   ]
  },
  {
   "cell_type": "code",
   "execution_count": 13,
   "metadata": {
    "scrolled": true
   },
   "outputs": [
    {
     "data": {
      "text/plain": [
       "array(['Abraham Verghese', 'Adam Gasiewski', 'Adam Mansbach', 'Adir Levy',\n",
       "       'Admiral William H. McRaven', 'Adult Coloring Book Designs',\n",
       "       'Alan Moore', 'Alex Michaelides', 'Alice Schertle', 'Allie Brosh',\n",
       "       'American Psychiatric Association',\n",
       "       'American Psychological Association', 'Amor Towles', 'Amy Ramos',\n",
       "       'Amy Shields', 'Andy Weir', 'Angie Grace', 'Angie Thomas',\n",
       "       'Ann Voskamp', 'Ann Whitford Paul', 'Anthony Bourdain',\n",
       "       'Anthony Doerr', 'Atul Gawande', 'Audrey Niffenegger',\n",
       "       'B. J. Novak', 'Bessel van der Kolk M.D.', 'Bill Martin Jr.',\n",
       "       \"Bill O'Reilly\", 'Bill Simmons', 'Blue Star Coloring',\n",
       "       'Bob Woodward', 'Brandon Stanton', 'Brené Brown',\n",
       "       'Brian Kilmeade', 'Bruce Springsteen', 'Carol S. Dweck',\n",
       "       'Celeste Ng', 'Charlaine Harris', 'Charles Duhigg',\n",
       "       'Charles Krauthammer', 'Cheryl Strayed', 'Chip Gaines',\n",
       "       'Chip Heath', 'Chris Cleave', 'Chris Kyle', 'Chrissy Teigen',\n",
       "       'Christina Baker Kline', 'Christopher Paolini',\n",
       "       'Coloring Books for Adults', 'Craig Smith', 'Crispin Boyer', 'DK',\n",
       "       'Dale Carnegie', 'Dan Brown', 'Daniel H. Pink',\n",
       "       'Daniel James Brown', 'Daniel Kahneman', 'Daniel Lipkowitz',\n",
       "       'Dav Pilkey', 'Dave Ramsey', 'David Goggins', 'David Grann',\n",
       "       'David McCullough', 'David Perlmutter MD', 'David Platt',\n",
       "       'David Zinczenko', 'Deborah Diesen',\n",
       "       'Delegates of the Constitutional\\x85', 'Delia Owens',\n",
       "       'Dinah Bucholz', 'Don Miguel Ruiz', 'Donna Tartt', 'Doug Lemov',\n",
       "       'Dr. Seuss', 'Dr. Steven R Gundry MD', 'Drew Daywalt', 'E L James',\n",
       "       'Eben Alexander', 'Edward Klein', 'Edward M. Kennedy',\n",
       "       'Elie Wiesel', 'Elizabeth Strout', 'Emily Winfield Martin',\n",
       "       'Eric Carle', 'Eric Larson', 'Ernest Cline', 'F. A. Hayek',\n",
       "       'F. Scott Fitzgerald', 'Francis Chan', 'Fredrik Backman', 'Gallup',\n",
       "       'Garth Stein', 'Gary Chapman', 'Gayle Forman', 'Geneen Roth',\n",
       "       'George Orwell', 'George R. R. Martin', 'George R.R. Martin',\n",
       "       'George W. Bush', 'Giles Andreae', 'Gillian Flynn', 'Glenn Beck',\n",
       "       'Golden Books', 'Greg Mortenson', 'Harper Lee', 'Heidi Murkoff',\n",
       "       'Hillary Rodham Clinton', 'Hopscotch Girls', 'Howard Stern',\n",
       "       'Ian K. Smith M.D.', 'Ina Garten', 'J. D. Vance', 'J. K. Rowling',\n",
       "       'J.K. Rowling', 'JJ Smith', 'James Comey', 'James Dashner',\n",
       "       'James Patterson', 'Jay Asher', 'Jaycee Dugard', 'Jeff Kinney',\n",
       "       'Jen Sincero', 'Jennifer Smith', 'Jill Twiss', 'Jim Collins',\n",
       "       'Joanna Gaines', 'Joel Fuhrman MD', 'Johanna Basford',\n",
       "       'John Green', 'John Grisham', 'John Heilemann', 'Jon Meacham',\n",
       "       'Jon Stewart', 'Jonathan Cahn', 'Jordan B. Peterson',\n",
       "       'Julia Child', 'Justin Halpern', 'Kathryn Stockett',\n",
       "       'Keith Richards', 'Ken Follett', 'Kevin Kwan', 'Khaled Hosseini',\n",
       "       'Kristin Hannah', 'Larry Schweikart', 'Laura Hillenbrand',\n",
       "       'Laurel Randolph', 'Lin-Manuel Miranda', 'Lysa TerKeurst',\n",
       "       'M Prefontaine', \"Madeleine L'Engle\", 'Malcolm Gladwell',\n",
       "       'Margaret Atwood', 'Margaret Wise Brown', 'Marie Kondō',\n",
       "       'Marjorie Sarnat', 'Mark Hyman M.D.', 'Mark Manson', 'Mark Owen',\n",
       "       'Mark R. Levin', 'Mark Twain', 'Markus Zusak', 'Marty Noble',\n",
       "       'Mary Ann Shaffer', 'Maurice Sendak', 'Melissa Hartwig Urban',\n",
       "       'Michael Lewis', 'Michael Pollan', 'Michael Wolff',\n",
       "       'Michelle Obama', 'Mike Moreno', 'Mitch Albom', 'Muriel Barbery',\n",
       "       'Naomi Kleinberg', 'Nathan W. Pyle', 'National Geographic Kids',\n",
       "       'Neil deGrasse Tyson', 'Paper Peony Press', 'Patrick Lencioni',\n",
       "       'Patrick Thorpe', 'Paul Kalanithi', 'Paula Hawkins',\n",
       "       'Paula McLain', 'Paulo Coelho', 'Pete Souza', 'Peter A. Lillback',\n",
       "       'Phil Robertson', 'Pierre Dukan', 'Pretty Simple Press',\n",
       "       'R. J. Palacio', 'RH Disney', 'Rachel Hollis', 'Raina Telgemeier',\n",
       "       'Randall Munroe', 'Randy Pausch', 'Ray Bradbury', 'Rebecca Skloot',\n",
       "       'Ree Drummond', 'Rick Riordan', 'Rob Bell', 'Rob Elliott',\n",
       "       'Robert Jordan', 'Robert Munsch', 'Rod Campbell', 'Roger Priddy',\n",
       "       'Ron Chernow', 'Rupi Kaur', 'Rush Limbaugh', 'Samin Nosrat',\n",
       "       'Sandra Boynton', 'Sara Gruen', 'Sarah Palin', 'Sarah Young',\n",
       "       \"Sasha O'Hara\", 'Scholastic', 'School Zone',\n",
       "       'Sherri Duskey Rinker', 'Sheryl Sandberg', 'Silly Bear',\n",
       "       'Stephen Kendrick', 'Stephen King', 'Stephen R. Covey',\n",
       "       'Stephenie Meyer', 'Steve Harvey', 'Steven D. Levitt',\n",
       "       'Stieg Larsson', 'Susan Cain', 'Suzanne Collins',\n",
       "       'Ta-Nehisi Coates', 'Tara Westover', 'Tatiana de Rosnay',\n",
       "       'The College Board', 'The Staff of The Late Show with\\x85',\n",
       "       'The Washington Post', 'Thomas Campbell', 'Thomas Piketty',\n",
       "       'Thug Kitchen', 'Timothy Ferriss', 'Tina Fey', 'Todd Burpo',\n",
       "       'Tony Hsieh', 'Tucker Carlson', 'Veronica Roth',\n",
       "       'W. Cleon Skousen', 'Walter Isaacson', 'William Davis',\n",
       "       'William P. Young', 'Wizards RPG Team', 'Zhi Gang Sha'],\n",
       "      dtype=object)"
      ]
     },
     "execution_count": 13,
     "metadata": {},
     "output_type": "execute_result"
    }
   ],
   "source": [
    "df_books['author'].sort_values().unique()"
   ]
  },
  {
   "cell_type": "markdown",
   "metadata": {},
   "source": [
    "As there are not many names, we can manually identify them duplicates with a quick scan. We see that George R.R Martin and J.K Rowling appear twice due to inconsistencies in spacings."
   ]
  },
  {
   "cell_type": "code",
   "execution_count": 14,
   "metadata": {},
   "outputs": [],
   "source": [
    "df_books = df_books.replace('George R.R. Martin', 'George R. R. Martin')\n",
    "df_books = df_books.replace('J.K. Rowling', 'J. K. Rowling')"
   ]
  },
  {
   "cell_type": "markdown",
   "metadata": {},
   "source": [
    "Checking for duplicates in the `name` column. "
   ]
  },
  {
   "cell_type": "code",
   "execution_count": 15,
   "metadata": {
    "scrolled": true
   },
   "outputs": [
    {
     "data": {
      "text/plain": [
       "[['The Going-To-Bed Book', 2],\n",
       " ['Mockingjay (The Hunger Games)', 3],\n",
       " ['Brown Bear, Brown Bear, What Do You See?', 2],\n",
       " ['Dog Man: Brawl Of The Wild: From The Creator Of Captain Underpants (Dog Man #6)',\n",
       "  2],\n",
       " ['Wonder', 5],\n",
       " [\"Giraffes Can'T Dance\", 5],\n",
       " ['Wheat Belly: Lose The Wheat, Lose The Weight, And Find Your Path Back To Health',\n",
       "  2],\n",
       " ['School Zone - Big Preschool Workbook - Ages 4 And Up, Colors, Shapes, Numbers 1-10, Alphabet, Pre-Writing, Pre-Reading…',\n",
       "  2],\n",
       " ['How To Win Friends & Influence People', 5],\n",
       " ['The Book Thief', 2],\n",
       " ['The Immortal Life Of Henrietta Lacks', 3],\n",
       " ['Laugh-Out-Loud Jokes For Kids', 5],\n",
       " [\"Proof Of Heaven: A Neurosurgeon'S Journey Into The Afterlife\", 2],\n",
       " ['The Help', 4],\n",
       " ['Becoming', 2],\n",
       " ['The Pout-Pout Fish', 2],\n",
       " ['The Wonky Donkey', 2],\n",
       " ['The Last Olympian (Percy Jackson And The Olympians, Book 5)', 2],\n",
       " ['The Girl With The Dragon Tattoo (Millennium Series)', 2],\n",
       " ['Between The World And Me', 2],\n",
       " ['Steve Jobs', 2],\n",
       " ['Ready Player One: A Novel', 2],\n",
       " ['If Animals Kissed Good Night', 2],\n",
       " ['The Great Gatsby', 3],\n",
       " ['Publication Manual Of The American Psychological Association, 6Th Edition',\n",
       "  10],\n",
       " ['Mindset: The New Psychology Of Success', 3],\n",
       " ['The 7 Habits Of Highly Effective People: Powerful Lessons In Personal Change',\n",
       "  7],\n",
       " ['Crazy Love: Overwhelmed By A Relentless God', 3],\n",
       " ['The Nightingale: A Novel', 2],\n",
       " ['Catching Fire (The Hunger Games)', 3],\n",
       " ['Girl, Wash Your Face: Stop Believing The Lies About Who You Are So You Can Become Who You Were Meant To Be',\n",
       "  2],\n",
       " [\"Quiet: The Power Of Introverts In A World That Can'T Stop Talking\", 2],\n",
       " ['The Goldfinch: A Novel (Pulitzer Prize For Fiction)', 2],\n",
       " ['P Is For Potty! (Sesame Street) (Lift-The-Flap)', 2],\n",
       " ['Eat To Live: The Amazing Nutrient-Rich Program For Fast And Sustained Weight Loss, Revised Edition',\n",
       "  2],\n",
       " ['Goodnight, Goodnight Construction Site (Hardcover Books For Toddlers, Preschool Books For Kids)',\n",
       "  2],\n",
       " ['One Thousand Gifts: A Dare To Live Fully Right Where You Are', 2],\n",
       " ['Divergent', 2],\n",
       " ['The Official Sat Study Guide', 5],\n",
       " [\"The Girl Who Kicked The Hornet'S Nest (Millennium Trilogy)\", 2],\n",
       " ['Salt, Fat, Acid, Heat: Mastering The Elements Of Good Cooking', 2],\n",
       " ['Strengthsfinder 2.0', 9],\n",
       " [\"Good To Great: Why Some Companies Make The Leap And Others Don'T\", 4],\n",
       " ['Jesus Calling: Enjoying Peace In His Presence (With Scripture References)',\n",
       "  6],\n",
       " [\"Oh, The Places You'Ll Go!\", 8],\n",
       " ['All The Light We Cannot See', 2],\n",
       " ['Outliers: The Story Of Success', 2],\n",
       " ['The Whole30: The 30-Day Guide To Total Health And Food Freedom', 3],\n",
       " ['Milk And Honey', 3],\n",
       " ['The Art Of Racing In The Rain: A Novel', 2],\n",
       " ['Diagnostic And Statistical Manual Of Mental Disorders, 5Th Edition: Dsm-5',\n",
       "  2],\n",
       " ['First 100 Words', 5],\n",
       " ['The Girl On The Train', 2],\n",
       " ['Game Of Thrones Boxed Set: A Game Of Thrones/A Clash Of Kings/A Storm Of Swords/A Feast For Crows',\n",
       "  3],\n",
       " ['The Shack: Where Tragedy Confronts Eternity', 2],\n",
       " ['Fahrenheit 451', 2],\n",
       " ['Humans Of New York', 2],\n",
       " ['The Five Dysfunctions Of A Team: A Leadership Fable', 5],\n",
       " ['Teach Like A Champion: 49 Techniques That Put Students On The Path To College',\n",
       "  2],\n",
       " ['Fifty Shades Of Grey: Book One Of The Fifty Shades Trilogy (Fifty Shades Of Grey Series)',\n",
       "  2],\n",
       " ['The Book With No Pictures', 2],\n",
       " ['Unbroken: A World War Ii Story Of Survival, Resilience, And Redemption', 5],\n",
       " ['Thinking, Fast And Slow', 2],\n",
       " ['The Very Hungry Caterpillar', 7],\n",
       " [\"Killing Lincoln: The Shocking Assassination That Changed America Forever (Bill O'Reilly'S Killing Series)\",\n",
       "  2],\n",
       " ['You Are A Badass: How To Stop Doubting Your Greatness And Start Living An Awesome Life',\n",
       "  4],\n",
       " ['Goodnight Moon', 3],\n",
       " ['Thug Kitchen: The Official Cookbook: Eat Like You Give A F*Ck (Thug Kitchen Cookbooks)',\n",
       "  4],\n",
       " ['The Boys In The Boat: Nine Americans And Their Epic Quest For Gold At The 1936 Berlin Olympics',\n",
       "  2],\n",
       " ['Instant Pot Pressure Cooker Cookbook: 500 Everyday Recipes For Beginners And Advanced Users. Try Easy And Healthy…',\n",
       "  2],\n",
       " ['Dear Zoo: A Lift-The-Flap Book', 4],\n",
       " ['To Kill A Mockingbird', 5],\n",
       " ['The Wonderful Things You Will Be', 4],\n",
       " ['Radical: Taking Back Your Faith From The American Dream', 2],\n",
       " ['The Subtle Art Of Not Giving A F*Ck: A Counterintuitive Approach To Living A Good Life',\n",
       "  3],\n",
       " ['Educated: A Memoir', 2],\n",
       " ['Gone Girl', 3],\n",
       " [\"Three Cups Of Tea: One Man'S Mission To Promote Peace - One School At A Time\",\n",
       "  2],\n",
       " [\"Player'S Handbook (Dungeons & Dragons)\", 3],\n",
       " ['The Day The Crayons Quit', 3],\n",
       " ['The Complete Ketogenic Diet For Beginners: Your Essential Guide To Living The Keto Lifestyle',\n",
       "  2],\n",
       " ['The Four Agreements: A Practical Guide To Personal Freedom (A Toltec Wisdom Book)',\n",
       "  6],\n",
       " ['The 5 Love Languages: The Secret To Love That Lasts', 10],\n",
       " ['Love You Forever', 2],\n",
       " ['The Life-Changing Magic Of Tidying Up: The Japanese Art Of Decluttering And Organizing',\n",
       "  4],\n",
       " ['The Hunger Games Trilogy Boxed Set (1)', 2],\n",
       " ['The Fault In Our Stars', 4],\n",
       " ['The Hunger Games (Book 1)', 2],\n",
       " ['Knock-Knock Jokes For Kids', 3],\n",
       " ['Hillbilly Elegy: A Memoir Of A Family And Culture In Crisis', 2],\n",
       " ['A Man Called Ove: A Novel', 2],\n",
       " [\"Heaven Is For Real: A Little Boy'S Astounding Story Of His Trip To Heaven And Back\",\n",
       "  2],\n",
       " ['The Instant Pot Electric Pressure Cooker Cookbook: Easy Recipes For Fast & Healthy Meals',\n",
       "  2],\n",
       " ['The Lego Ideas Book: Unlock Your Imagination', 2],\n",
       " ['Cutting For Stone', 2]]"
      ]
     },
     "execution_count": 15,
     "metadata": {},
     "output_type": "execute_result"
    }
   ],
   "source": [
    "names_list = df_books['name'].to_list()\n",
    "\n",
    "# count each occurence of titles in names\n",
    "counts_of_titles = [[title, names_list.count(title)] for title in set(names_list)]\n",
    "\n",
    "# print duplicated titles\n",
    "duplicated_titles = [title for title in counts_of_titles if title[1] > 1]\n",
    "duplicated_titles"
   ]
  },
  {
   "cell_type": "markdown",
   "metadata": {},
   "source": [
    "Let's check a couple of these below."
   ]
  },
  {
   "cell_type": "code",
   "execution_count": 16,
   "metadata": {},
   "outputs": [
    {
     "data": {
      "text/html": [
       "<div>\n",
       "<style scoped>\n",
       "    .dataframe tbody tr th:only-of-type {\n",
       "        vertical-align: middle;\n",
       "    }\n",
       "\n",
       "    .dataframe tbody tr th {\n",
       "        vertical-align: top;\n",
       "    }\n",
       "\n",
       "    .dataframe thead th {\n",
       "        text-align: right;\n",
       "    }\n",
       "</style>\n",
       "<table border=\"1\" class=\"dataframe\">\n",
       "  <thead>\n",
       "    <tr style=\"text-align: right;\">\n",
       "      <th></th>\n",
       "      <th>name</th>\n",
       "      <th>author</th>\n",
       "      <th>user_rating</th>\n",
       "      <th>reviews</th>\n",
       "      <th>price</th>\n",
       "      <th>year</th>\n",
       "      <th>genre</th>\n",
       "    </tr>\n",
       "  </thead>\n",
       "  <tbody>\n",
       "    <tr>\n",
       "      <th>135</th>\n",
       "      <td>Gone Girl</td>\n",
       "      <td>Gillian Flynn</td>\n",
       "      <td>4.0</td>\n",
       "      <td>57271</td>\n",
       "      <td>10</td>\n",
       "      <td>2012</td>\n",
       "      <td>Fiction</td>\n",
       "    </tr>\n",
       "    <tr>\n",
       "      <th>136</th>\n",
       "      <td>Gone Girl</td>\n",
       "      <td>Gillian Flynn</td>\n",
       "      <td>4.0</td>\n",
       "      <td>57271</td>\n",
       "      <td>10</td>\n",
       "      <td>2013</td>\n",
       "      <td>Fiction</td>\n",
       "    </tr>\n",
       "    <tr>\n",
       "      <th>137</th>\n",
       "      <td>Gone Girl</td>\n",
       "      <td>Gillian Flynn</td>\n",
       "      <td>4.0</td>\n",
       "      <td>57271</td>\n",
       "      <td>9</td>\n",
       "      <td>2014</td>\n",
       "      <td>Fiction</td>\n",
       "    </tr>\n",
       "  </tbody>\n",
       "</table>\n",
       "</div>"
      ],
      "text/plain": [
       "          name         author  user_rating  reviews  price  year    genre\n",
       "135  Gone Girl  Gillian Flynn          4.0    57271     10  2012  Fiction\n",
       "136  Gone Girl  Gillian Flynn          4.0    57271     10  2013  Fiction\n",
       "137  Gone Girl  Gillian Flynn          4.0    57271      9  2014  Fiction"
      ]
     },
     "execution_count": 16,
     "metadata": {},
     "output_type": "execute_result"
    }
   ],
   "source": [
    "df_books[df_books['name'] == 'Gone Girl']"
   ]
  },
  {
   "cell_type": "code",
   "execution_count": 17,
   "metadata": {},
   "outputs": [
    {
     "data": {
      "text/html": [
       "<div>\n",
       "<style scoped>\n",
       "    .dataframe tbody tr th:only-of-type {\n",
       "        vertical-align: middle;\n",
       "    }\n",
       "\n",
       "    .dataframe tbody tr th {\n",
       "        vertical-align: top;\n",
       "    }\n",
       "\n",
       "    .dataframe thead th {\n",
       "        text-align: right;\n",
       "    }\n",
       "</style>\n",
       "<table border=\"1\" class=\"dataframe\">\n",
       "  <thead>\n",
       "    <tr style=\"text-align: right;\">\n",
       "      <th></th>\n",
       "      <th>name</th>\n",
       "      <th>author</th>\n",
       "      <th>user_rating</th>\n",
       "      <th>reviews</th>\n",
       "      <th>price</th>\n",
       "      <th>year</th>\n",
       "      <th>genre</th>\n",
       "    </tr>\n",
       "  </thead>\n",
       "  <tbody>\n",
       "    <tr>\n",
       "      <th>301</th>\n",
       "      <td>Steve Jobs</td>\n",
       "      <td>Walter Isaacson</td>\n",
       "      <td>4.6</td>\n",
       "      <td>7827</td>\n",
       "      <td>20</td>\n",
       "      <td>2011</td>\n",
       "      <td>Non Fiction</td>\n",
       "    </tr>\n",
       "    <tr>\n",
       "      <th>302</th>\n",
       "      <td>Steve Jobs</td>\n",
       "      <td>Walter Isaacson</td>\n",
       "      <td>4.6</td>\n",
       "      <td>7827</td>\n",
       "      <td>20</td>\n",
       "      <td>2012</td>\n",
       "      <td>Non Fiction</td>\n",
       "    </tr>\n",
       "  </tbody>\n",
       "</table>\n",
       "</div>"
      ],
      "text/plain": [
       "           name           author  user_rating  reviews  price  year  \\\n",
       "301  Steve Jobs  Walter Isaacson          4.6     7827     20  2011   \n",
       "302  Steve Jobs  Walter Isaacson          4.6     7827     20  2012   \n",
       "\n",
       "           genre  \n",
       "301  Non Fiction  \n",
       "302  Non Fiction  "
      ]
     },
     "execution_count": 17,
     "metadata": {},
     "output_type": "execute_result"
    }
   ],
   "source": [
    "df_books[df_books['name'] == 'Steve Jobs']"
   ]
  },
  {
   "cell_type": "markdown",
   "metadata": {},
   "source": [
    "We see that we have duplicate titles occurring on the `price` and `year` columns. We will set `price` to equal the average price of the book across all years, and we will select the most recent `year`."
   ]
  },
  {
   "cell_type": "code",
   "execution_count": 18,
   "metadata": {},
   "outputs": [],
   "source": [
    "df_books['price'] = df_books.groupby('name')['price'].transform('mean')\n",
    "df_books['year'] = df_books.groupby('name')['year'].transform('max')"
   ]
  },
  {
   "cell_type": "code",
   "execution_count": 19,
   "metadata": {},
   "outputs": [],
   "source": [
    "df_books = df_books.drop_duplicates(keep='last')"
   ]
  },
  {
   "cell_type": "markdown",
   "metadata": {},
   "source": [
    "After dropping these duplicates, we'll run our check again. "
   ]
  },
  {
   "cell_type": "code",
   "execution_count": 20,
   "metadata": {},
   "outputs": [
    {
     "name": "stdout",
     "output_type": "stream",
     "text": [
      "[['The 7 Habits Of Highly Effective People: Powerful Lessons In Personal Change', 2], ['The 5 Love Languages: The Secret To Love That Lasts', 2]]\n"
     ]
    }
   ],
   "source": [
    "# Run our check again\n",
    "names_list = df_books['name'].to_list()\n",
    "\n",
    "counts_of_titles = [[title, names_list.count(title)] for title in set(names_list)]\n",
    "duplicated_titles = [title for title in counts_of_titles if title[1] > 1]\n",
    "print(duplicated_titles)"
   ]
  },
  {
   "cell_type": "code",
   "execution_count": 21,
   "metadata": {},
   "outputs": [
    {
     "data": {
      "text/html": [
       "<div>\n",
       "<style scoped>\n",
       "    .dataframe tbody tr th:only-of-type {\n",
       "        vertical-align: middle;\n",
       "    }\n",
       "\n",
       "    .dataframe tbody tr th {\n",
       "        vertical-align: top;\n",
       "    }\n",
       "\n",
       "    .dataframe thead th {\n",
       "        text-align: right;\n",
       "    }\n",
       "</style>\n",
       "<table border=\"1\" class=\"dataframe\">\n",
       "  <thead>\n",
       "    <tr style=\"text-align: right;\">\n",
       "      <th></th>\n",
       "      <th>name</th>\n",
       "      <th>author</th>\n",
       "      <th>user_rating</th>\n",
       "      <th>reviews</th>\n",
       "      <th>price</th>\n",
       "      <th>year</th>\n",
       "      <th>genre</th>\n",
       "    </tr>\n",
       "  </thead>\n",
       "  <tbody>\n",
       "    <tr>\n",
       "      <th>324</th>\n",
       "      <td>The 5 Love Languages: The Secret To Love That ...</td>\n",
       "      <td>Gary Chapman</td>\n",
       "      <td>4.7</td>\n",
       "      <td>3477</td>\n",
       "      <td>18.0</td>\n",
       "      <td>2019</td>\n",
       "      <td>Non Fiction</td>\n",
       "    </tr>\n",
       "    <tr>\n",
       "      <th>329</th>\n",
       "      <td>The 5 Love Languages: The Secret To Love That ...</td>\n",
       "      <td>Gary Chapman</td>\n",
       "      <td>4.8</td>\n",
       "      <td>25554</td>\n",
       "      <td>18.0</td>\n",
       "      <td>2019</td>\n",
       "      <td>Non Fiction</td>\n",
       "    </tr>\n",
       "  </tbody>\n",
       "</table>\n",
       "</div>"
      ],
      "text/plain": [
       "                                                  name        author  \\\n",
       "324  The 5 Love Languages: The Secret To Love That ...  Gary Chapman   \n",
       "329  The 5 Love Languages: The Secret To Love That ...  Gary Chapman   \n",
       "\n",
       "     user_rating  reviews  price  year        genre  \n",
       "324          4.7     3477   18.0  2019  Non Fiction  \n",
       "329          4.8    25554   18.0  2019  Non Fiction  "
      ]
     },
     "execution_count": 21,
     "metadata": {},
     "output_type": "execute_result"
    }
   ],
   "source": [
    "df_books[df_books['name'] == 'The 5 Love Languages: The Secret To Love That Lasts']"
   ]
  },
  {
   "cell_type": "code",
   "execution_count": 22,
   "metadata": {},
   "outputs": [
    {
     "data": {
      "text/html": [
       "<div>\n",
       "<style scoped>\n",
       "    .dataframe tbody tr th:only-of-type {\n",
       "        vertical-align: middle;\n",
       "    }\n",
       "\n",
       "    .dataframe tbody tr th {\n",
       "        vertical-align: top;\n",
       "    }\n",
       "\n",
       "    .dataframe thead th {\n",
       "        text-align: right;\n",
       "    }\n",
       "</style>\n",
       "<table border=\"1\" class=\"dataframe\">\n",
       "  <thead>\n",
       "    <tr style=\"text-align: right;\">\n",
       "      <th></th>\n",
       "      <th>name</th>\n",
       "      <th>author</th>\n",
       "      <th>user_rating</th>\n",
       "      <th>reviews</th>\n",
       "      <th>price</th>\n",
       "      <th>year</th>\n",
       "      <th>genre</th>\n",
       "    </tr>\n",
       "  </thead>\n",
       "  <tbody>\n",
       "    <tr>\n",
       "      <th>334</th>\n",
       "      <td>The 7 Habits Of Highly Effective People: Power...</td>\n",
       "      <td>Stephen R. Covey</td>\n",
       "      <td>4.6</td>\n",
       "      <td>9325</td>\n",
       "      <td>20.571429</td>\n",
       "      <td>2017</td>\n",
       "      <td>Non Fiction</td>\n",
       "    </tr>\n",
       "    <tr>\n",
       "      <th>337</th>\n",
       "      <td>The 7 Habits Of Highly Effective People: Power...</td>\n",
       "      <td>Stephen R. Covey</td>\n",
       "      <td>4.7</td>\n",
       "      <td>4725</td>\n",
       "      <td>20.571429</td>\n",
       "      <td>2017</td>\n",
       "      <td>Non Fiction</td>\n",
       "    </tr>\n",
       "  </tbody>\n",
       "</table>\n",
       "</div>"
      ],
      "text/plain": [
       "                                                  name            author  \\\n",
       "334  The 7 Habits Of Highly Effective People: Power...  Stephen R. Covey   \n",
       "337  The 7 Habits Of Highly Effective People: Power...  Stephen R. Covey   \n",
       "\n",
       "     user_rating  reviews      price  year        genre  \n",
       "334          4.6     9325  20.571429  2017  Non Fiction  \n",
       "337          4.7     4725  20.571429  2017  Non Fiction  "
      ]
     },
     "execution_count": 22,
     "metadata": {},
     "output_type": "execute_result"
    }
   ],
   "source": [
    "df_books[df_books['name'] == 'The 7 Habits Of Highly Effective People: Powerful Lessons In Personal Change']"
   ]
  },
  {
   "cell_type": "markdown",
   "metadata": {},
   "source": [
    "It's possible that these are genuine duplicated entries, going back and looking at them we can see that it appears to be two versions of the book released with two different prices, leading to different numbers of reviews. We can't combine them here, nor can we say that one is more important than the other. For the purposes of this exercise we will simply drop these rows. \n"
   ]
  },
  {
   "cell_type": "code",
   "execution_count": 23,
   "metadata": {},
   "outputs": [],
   "source": [
    "df_books.drop(\n",
    "    df_books[df_books['name'] == 'The 5 Love Languages: The Secret To Love That Lasts'].index,\n",
    "    inplace=True\n",
    ")\n",
    "\n",
    "df_books.drop(\n",
    "    df_books[df_books['name'] == 'The 7 Habits Of Highly Effective People: Powerful Lessons In Personal Change'].index,\n",
    "    inplace=True\n",
    ")"
   ]
  },
  {
   "cell_type": "code",
   "execution_count": 24,
   "metadata": {},
   "outputs": [
    {
     "name": "stdout",
     "output_type": "stream",
     "text": [
      "<class 'pandas.core.frame.DataFrame'>\n",
      "Int64Index: 348 entries, 0 to 549\n",
      "Data columns (total 7 columns):\n",
      " #   Column       Non-Null Count  Dtype   \n",
      "---  ------       --------------  -----   \n",
      " 0   name         348 non-null    object  \n",
      " 1   author       348 non-null    object  \n",
      " 2   user_rating  348 non-null    float64 \n",
      " 3   reviews      348 non-null    int64   \n",
      " 4   price        348 non-null    float64 \n",
      " 5   year         348 non-null    int64   \n",
      " 6   genre        348 non-null    category\n",
      "dtypes: category(1), float64(2), int64(2), object(2)\n",
      "memory usage: 19.5+ KB\n"
     ]
    }
   ],
   "source": [
    "df_books.info()"
   ]
  },
  {
   "cell_type": "code",
   "execution_count": 25,
   "metadata": {},
   "outputs": [
    {
     "data": {
      "text/html": [
       "<div>\n",
       "<style scoped>\n",
       "    .dataframe tbody tr th:only-of-type {\n",
       "        vertical-align: middle;\n",
       "    }\n",
       "\n",
       "    .dataframe tbody tr th {\n",
       "        vertical-align: top;\n",
       "    }\n",
       "\n",
       "    .dataframe thead th {\n",
       "        text-align: right;\n",
       "    }\n",
       "</style>\n",
       "<table border=\"1\" class=\"dataframe\">\n",
       "  <thead>\n",
       "    <tr style=\"text-align: right;\">\n",
       "      <th></th>\n",
       "      <th>user_rating</th>\n",
       "      <th>reviews</th>\n",
       "      <th>price</th>\n",
       "      <th>year</th>\n",
       "    </tr>\n",
       "  </thead>\n",
       "  <tbody>\n",
       "    <tr>\n",
       "      <th>count</th>\n",
       "      <td>348.000000</td>\n",
       "      <td>348.000000</td>\n",
       "      <td>348.000000</td>\n",
       "      <td>348.000000</td>\n",
       "    </tr>\n",
       "    <tr>\n",
       "      <th>mean</th>\n",
       "      <td>4.608046</td>\n",
       "      <td>9773.945402</td>\n",
       "      <td>12.974282</td>\n",
       "      <td>2014.097701</td>\n",
       "    </tr>\n",
       "    <tr>\n",
       "      <th>std</th>\n",
       "      <td>0.227361</td>\n",
       "      <td>10880.091401</td>\n",
       "      <td>10.025634</td>\n",
       "      <td>3.379323</td>\n",
       "    </tr>\n",
       "    <tr>\n",
       "      <th>min</th>\n",
       "      <td>3.300000</td>\n",
       "      <td>37.000000</td>\n",
       "      <td>0.000000</td>\n",
       "      <td>2009.000000</td>\n",
       "    </tr>\n",
       "    <tr>\n",
       "      <th>25%</th>\n",
       "      <td>4.500000</td>\n",
       "      <td>3406.250000</td>\n",
       "      <td>8.000000</td>\n",
       "      <td>2011.000000</td>\n",
       "    </tr>\n",
       "    <tr>\n",
       "      <th>50%</th>\n",
       "      <td>4.600000</td>\n",
       "      <td>6328.000000</td>\n",
       "      <td>11.000000</td>\n",
       "      <td>2014.000000</td>\n",
       "    </tr>\n",
       "    <tr>\n",
       "      <th>75%</th>\n",
       "      <td>4.800000</td>\n",
       "      <td>11430.750000</td>\n",
       "      <td>16.000000</td>\n",
       "      <td>2017.000000</td>\n",
       "    </tr>\n",
       "    <tr>\n",
       "      <th>max</th>\n",
       "      <td>4.900000</td>\n",
       "      <td>87841.000000</td>\n",
       "      <td>105.000000</td>\n",
       "      <td>2019.000000</td>\n",
       "    </tr>\n",
       "  </tbody>\n",
       "</table>\n",
       "</div>"
      ],
      "text/plain": [
       "       user_rating       reviews       price         year\n",
       "count   348.000000    348.000000  348.000000   348.000000\n",
       "mean      4.608046   9773.945402   12.974282  2014.097701\n",
       "std       0.227361  10880.091401   10.025634     3.379323\n",
       "min       3.300000     37.000000    0.000000  2009.000000\n",
       "25%       4.500000   3406.250000    8.000000  2011.000000\n",
       "50%       4.600000   6328.000000   11.000000  2014.000000\n",
       "75%       4.800000  11430.750000   16.000000  2017.000000\n",
       "max       4.900000  87841.000000  105.000000  2019.000000"
      ]
     },
     "execution_count": 25,
     "metadata": {},
     "output_type": "execute_result"
    }
   ],
   "source": [
    "df_books.describe()"
   ]
  },
  {
   "cell_type": "code",
   "execution_count": 26,
   "metadata": {},
   "outputs": [
    {
     "name": "stdout",
     "output_type": "stream",
     "text": [
      "Number of books: 348, number of authors: 245\n"
     ]
    }
   ],
   "source": [
    "print(f\"Number of books: {df_books.shape[0]}, number of authors: {len(df_books['author'].unique())}\")"
   ]
  },
  {
   "cell_type": "markdown",
   "metadata": {},
   "source": [
    "Our final dataset now has 348 books written by 245 different authors. We can now move on to visualizing this data. "
   ]
  },
  {
   "cell_type": "code",
   "execution_count": 27,
   "metadata": {},
   "outputs": [],
   "source": [
    "df_books.to_pickle('../data/processed/bestsellers_cleaned')"
   ]
  },
  {
   "cell_type": "code",
   "execution_count": null,
   "metadata": {},
   "outputs": [],
   "source": []
  }
 ],
 "metadata": {
  "interpreter": {
   "hash": "1f6a1d69928b52496db9f8c9d94760d69655d6919e0394d849bb383b7159876e"
  },
  "kernelspec": {
   "display_name": "gdi-data-viz-seminar",
   "language": "python",
   "name": "gdi-data-viz-seminar"
  },
  "language_info": {
   "codemirror_mode": {
    "name": "ipython",
    "version": 3
   },
   "file_extension": ".py",
   "mimetype": "text/x-python",
   "name": "python",
   "nbconvert_exporter": "python",
   "pygments_lexer": "ipython3",
   "version": "3.9.2"
  }
 },
 "nbformat": 4,
 "nbformat_minor": 2
}
